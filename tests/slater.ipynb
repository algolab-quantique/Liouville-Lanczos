{
 "cells": [
  {
   "attachments": {},
   "cell_type": "markdown",
   "metadata": {},
   "source": [
    "# Determinants de Slater\n",
    "\n",
    "Les états à plusieurs particules de systèmes sans interaction peuvent être exprimer sous la forme de déterminant de Slater.\n",
    "\n",
    "Un déterminant de Slater est un états à plusieurs particule qu'on peut construire simplement en appliquant des opérateur de création au vide. Par exemple,\n",
    "$$ |\\psi\\rangle = c^\\dagger_i c^\\dagger_j |0 \\rangle $$\n",
    "\n",
    "est un déterminant de slatter à deux particules, une dans l'état étiquetté $i$ et l'autre dans l'état étiquetté $j$\n",
    "\n",
    "Dans la notation de la deuxième quantification, un hamiltonien dont les états propres sont des déterminants de Slatter prennent la forme\n",
    "\n",
    "$$ H = \\sum_{ij} T_{ij} c^\\dagger_i c_j $$\n",
    "\n",
    "ou la matrice $T$ est hermitienne. Il s'agit de hamiltoniens *quadratiques*. Ce genre de hamiltonien sont ceux de système ayant seulement des contribution provenant de l'énergie cinétique et/ou de potentielles classique.\n",
    "\n",
    "Le terme de saut du modèle de Hubbard (ainsi que le potentiel chimique), lorsqu'isolé tombe dans cette catégorie.\n",
    "\n",
    "$$ H = -t \\sum_{<ij>,\\sigma }(c^\\dagger_{i\\sigma} c_{j\\sigma} +c^\\dagger_{j\\sigma} c_{i\\sigma})  - \\mu \\sum_{i\\sigma} c^\\dagger_{i\\sigma}c_{i\\sigma}+ U \\sum_i c^\\dagger_{i\\uparrow}c^\\dagger_{i\\downarrow}c_{\\downarrow}c_{i\\uparrow}  $$\n",
    "\n",
    "\n",
    "Le terme d'énergie cinétique du modèle de Hubbard est diagonnalisé par une transformé de Fourrier (en autant de dimensions que le modele en a). Dans le cas 1D:\n",
    "\n",
    "$$ a_{k,\\sigma} = \\frac{1}{\\sqrt{N}} \\sum_j c_{j\\sigma} e^{-ijk/N} $$\n",
    "$$  -t \\sum_{<ij>,\\sigma }(c^\\dagger_{i\\sigma} c_{j\\sigma} +c^\\dagger_{j\\sigma} c_{i\\sigma}) = -2t \\sum_{k\\sigma} \\mathrm{cos}(k) a^\\dagger_{k\\sigma}a_{k\\sigma} $$\n",
    "\n",
    "Les états propres à une particule de l'énergie cinétique sont $|k \\sigma \\rangle = a^\\dagger_{k\\sigma} |0 \\rangle$ et ont l'énergie $-2t\\mathrm{cos}(k)$\n",
    "\n",
    "Les états propre à plusieurs particule sont peuvent être construit en effectuant appliquant plusieurs opérateur de création au vide, et l'énergie de l'état est simplement la somme des énergie de chacun des état à une particule occupé. À cause de la simplicité de la règle de composition, ce genre de hamiltionien (le cinétique) est completement résolu en solutionnant seulement le secteur à une particule. Ceci est faisable classiquement pour de très grand système, car la complexité algorithmique de ce problème est $O(N^3)$ dans le pire des cas.\n",
    "\n",
    "\n",
    "Il existe des méthodes approximatives pour produire des solutions sous forme de determinant de slatter pour des Hamiltionien qui ne sont pas quadratique. La plus connue des ces méthode est certainenement la méthode Hartree-Fock. L'approximation Hartree-Fock est également classiquement tractable. \n",
    "\n",
    "### Et avec qiskit?\n",
    "\n",
    "Ce qui suit est un exemple simple sur 4 qubits. Il s'agit du terme d'énergie cinétique pour un spin dans le modele de Hubbard 2x2."
   ]
  },
  {
   "cell_type": "code",
   "execution_count": null,
   "metadata": {},
   "outputs": [],
   "source": [
    "from qiskit import QuantumCircuit\n",
    "from qiskit_nature.second_q.circuit.library import SlaterDeterminant,BogoliubovTransform\n",
    "import numpy as np\n",
    "\n",
    "#matrice de Sauts\n",
    "T = np.array([\n",
    "    [0,1,0,1],\n",
    "    [1,0,1,0],\n",
    "    [0,1,0,1],\n",
    "    [1,0,1,0],\n",
    "    ])\n",
    "\n",
    "E,S = np.linalg.eigh(T) #calcule les valeurs propre et vecteurs propres\n",
    "\n",
    "print(E)\n"
   ]
  },
  {
   "attachments": {},
   "cell_type": "markdown",
   "metadata": {},
   "source": [
    "La quantre état propres de la matrice T sont des état à une particule. L'état de moindre énergie à 2 particule est dégénéré 2 fois: le deuxième et le troisième état à une particule on une énergie nulle à précision machine (Et un calcule analytique montre qu'il doit s'agir d'exactement $0$). "
   ]
  },
  {
   "cell_type": "code",
   "execution_count": null,
   "metadata": {},
   "outputs": [],
   "source": [
    "deux_particules_A = SlaterDeterminant(S.T[[0,1]])#état 0 et état 1 occupé\n",
    "deux_particules_B = SlaterDeterminant(S.T[[0,2]])#état 0 et état 2 occupé\n",
    "deux_particules_A.draw('mpl')"
   ]
  },
  {
   "cell_type": "code",
   "execution_count": null,
   "metadata": {},
   "outputs": [],
   "source": [
    "deux_particules_B.draw('mpl')"
   ]
  },
  {
   "attachments": {},
   "cell_type": "markdown",
   "metadata": {},
   "source": [
    "Si on veut préparer un état à 4 particules pour le modèle de Hubbard à 4 sites (avec le spin), on peut utiliser la somme directe des état propres trouvé précédement. Dans ce cas il y 4 déterminants de Slater avec la même énergie cinétique totale et 4 particules."
   ]
  },
  {
   "cell_type": "code",
   "execution_count": null,
   "metadata": {},
   "outputs": [],
   "source": [
    "S2 = np.zeros((8,8))\n",
    "S2[:4,:4] = S2[4:,4:] = S \n",
    "#ordonne les spin par block: le block 4x4 en haut à gauche contient les terme pour 1 spin\n",
    "#le block 4x4 en bas à droite pour l'autre.\n",
    "quatre_particules_A = SlaterDeterminant(S2.T[[0,1,4,5]])\n",
    "quatre_particules_B = SlaterDeterminant(S2.T[[0,2,4,5]])\n",
    "quatre_particules_C = SlaterDeterminant(S2.T[[0,1,4,6]])\n",
    "quatre_particules_D = SlaterDeterminant(S2.T[[0,2,4,6]])\n",
    "quatre_particules_A.draw('mpl')"
   ]
  },
  {
   "attachments": {},
   "cell_type": "markdown",
   "metadata": {},
   "source": [
    "Ces circuit sont optimiser pour produire le déterminant de Slater demandé et aucun autre.\n",
    "Qiskit nous permet aussi de contruit un circuit encodant la transformation linéaire entre les opérateur de création fermionique: `BogoliubovTransform`\n",
    "\n",
    "Cette opérateur nous permet de construire des état un peu plus complexe comme des superposition de quelque déterminant de \n",
    "\n",
    "Le circuit suivant produit l'état A, encore.\n",
    "\n",
    "On observe que les \"optimisation\" dans l'implémentation de `SlaterDeterminant` n'en sont pas lorsque qu'on encode dans l'ordre \"spin majeur, site mineur\"; la transformation de Bogoliubov est plus simple."
   ]
  },
  {
   "cell_type": "code",
   "execution_count": null,
   "metadata": {},
   "outputs": [],
   "source": [
    "Bogtrans = BogoliubovTransform(S2.T)\n",
    "Bog_4_particules_A = QuantumCircuit(8)\n",
    "Bog_4_particules_A.x(0)\n",
    "Bog_4_particules_A.x(1)\n",
    "Bog_4_particules_A.x(4)\n",
    "Bog_4_particules_A.x(5)\n",
    "Bog_4_particules_A.compose(Bogtrans,inplace=True)\n",
    "Bog_4_particules_A.draw('mpl')"
   ]
  },
  {
   "attachments": {},
   "cell_type": "markdown",
   "metadata": {},
   "source": [
    "La transformation nous offre la possibilité de faire des superposition de ces déterminant. \n",
    "Selon l'article d'Alexandre Choquette, la combinaison optimal est $(|A\\rangle - |C\\rangle)/\\sqrt(2)$\n",
    "\n"
   ]
  },
  {
   "cell_type": "code",
   "execution_count": null,
   "metadata": {},
   "outputs": [],
   "source": [
    "Optimal = QuantumCircuit(8)\n",
    "Optimal.x(0)\n",
    "Optimal.x(4)\n",
    "Optimal.h(1)\n",
    "Optimal.cx(1,3)\n",
    "Optimal.cx(3,5)\n",
    "Optimal.cx(5,6)\n",
    "Optimal.x(3)\n",
    "Optimal.z(3)\n",
    "Optimal.x(6)\n",
    "Optimal.compose(Bogtrans,inplace=True)\n",
    "Optimal.draw('mpl')"
   ]
  },
  {
   "cell_type": "code",
   "execution_count": null,
   "metadata": {},
   "outputs": [],
   "source": [
    "from qiskit import qpy\n",
    "\n",
    "with open('trans_bogoliubov.qpy','wb') as slt:\n",
    "    qpy.dump(Bogtrans,slt)\n",
    "\n",
    "with open('4part_slater_bogo.qpy','wb') as slt:\n",
    "    qpy.dump(Bog_4_particules_A,slt)\n",
    "\n",
    "with open('2slaters_opt_bogo.qpy','wb') as slt:\n",
    "    qpy.dump(Optimal,slt)"
   ]
  },
  {
   "cell_type": "code",
   "execution_count": null,
   "metadata": {},
   "outputs": [],
   "source": [
    "from qiskit import qpy\n",
    "\n",
    "with open('2slaters_opt_bogo.qpy', 'rb') as fd:\n",
    "    new_qc = qpy.load(fd)[0]"
   ]
  },
  {
   "cell_type": "code",
   "execution_count": null,
   "metadata": {},
   "outputs": [],
   "source": [
    "new_qc.draw('mpl')"
   ]
  },
  {
   "cell_type": "code",
   "execution_count": null,
   "metadata": {},
   "outputs": [],
   "source": [
    "with open('trans_bogoliubov.qasm','w') as slt:\n",
    "    slt.write(Bogtrans.qasm())\n",
    "\n",
    "with open('4part_slater_bogo.qasm','w') as slt:\n",
    "    slt.write(Bog_4_particules_A.qasm())\n",
    "\n",
    "with open('2slaters_opt_bogo.qasm','w') as slt:\n",
    "    slt.write(Optimal.qasm())"
   ]
  },
  {
   "cell_type": "code",
   "execution_count": null,
   "metadata": {},
   "outputs": [],
   "source": [
    "\n",
    "opt = QuantumCircuit.from_qasm_file('2slaters_opt_bogo.qasm')\n",
    "opt.draw('mpl')"
   ]
  },
  {
   "attachments": {},
   "cell_type": "markdown",
   "metadata": {},
   "source": [
    "Pour le modèle de Hubbard 1x4."
   ]
  },
  {
   "cell_type": "code",
   "execution_count": null,
   "metadata": {},
   "outputs": [],
   "source": [
    "\n",
    "#matrice de Sauts\n",
    "T = np.array([\n",
    "    [0,1,0,0],\n",
    "    [1,0,1,0],\n",
    "    [0,1,0,1],\n",
    "    [0,0,1,0],\n",
    "    ])\n",
    "\n",
    "E,S = np.linalg.eigh(T) #calcule les valeurs propre et vecteurs propres\n",
    "print(\"Énergies particules libre:\", E)"
   ]
  },
  {
   "cell_type": "code",
   "execution_count": null,
   "metadata": {},
   "outputs": [],
   "source": [
    "S2 = np.zeros((8,8))\n",
    "S2[:4,:4] = S2[4:,4:] = S \n",
    "Slater_lin_V1 = SlaterDeterminant(S2.T[[0,1,4,5]])#état 0 et état 1 occupé\n",
    "Slater_lin_V1.draw('mpl')"
   ]
  },
  {
   "cell_type": "code",
   "execution_count": null,
   "metadata": {},
   "outputs": [],
   "source": [
    "bogtrans = BogoliubovTransform(S2.T)\n",
    "Slater_lin_V2 = QuantumCircuit(8)\n",
    "Slater_lin_V2.x(0)\n",
    "Slater_lin_V2.x(1)\n",
    "Slater_lin_V2.x(4)\n",
    "Slater_lin_V2.x(5)\n",
    "Slater_lin_V2.compose(Bogtrans,inplace=True)\n",
    "Slater_lin_V2.draw('mpl')"
   ]
  },
  {
   "cell_type": "code",
   "execution_count": null,
   "metadata": {},
   "outputs": [],
   "source": []
  }
 ],
 "metadata": {
  "kernelspec": {
   "display_name": "env",
   "language": "python",
   "name": "python3"
  },
  "language_info": {
   "codemirror_mode": {
    "name": "ipython",
    "version": 3
   },
   "file_extension": ".py",
   "mimetype": "text/x-python",
   "name": "python",
   "nbconvert_exporter": "python",
   "pygments_lexer": "ipython3",
   "version": "3.10.10"
  },
  "orig_nbformat": 4
 },
 "nbformat": 4,
 "nbformat_minor": 2
}
