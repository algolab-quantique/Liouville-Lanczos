{
 "cells": [
  {
   "cell_type": "code",
   "execution_count": 1,
   "metadata": {},
   "outputs": [],
   "source": [
    "#%%\n",
    "from LiouvilleLanczos.Quantum_computer.QC_lanczos import Liouvillian_slo,inner_product_slo,sum_slo\n",
    "from LiouvilleLanczos.Quantum_computer.Hamiltonian import Line_Hubbard,BoundaryCondition\n",
    "from LiouvilleLanczos.Lanczos import Lanczos\n",
    "from LiouvilleLanczos.matrix_impl import MatrixState_inner_product,Matrix_Liouvillian,Matrix_sum\n",
    "from LiouvilleLanczos.Quantum_computer.Mapping import find_best_layout\n",
    "from LiouvilleLanczos.Green import CF_Green\n",
    "from qiskit.primitives import StatevectorEstimator as pEstimator\n",
    "\n",
    "from qiskit_nature.second_q.mappers import JordanWignerMapper\n",
    "from qiskit_nature.second_q.operators import FermionicOp\n",
    "from qiskit.quantum_info.operators import SparsePauliOp\n",
    "from qiskit import QuantumCircuit\n",
    "import numpy as np\n",
    "from qiskit import transpile\n",
    "from datetime import datetime\n",
    "from qiskit.transpiler.preset_passmanagers import generate_preset_pass_manager"
   ]
  },
  {
   "cell_type": "code",
   "execution_count": 4,
   "metadata": {},
   "outputs": [
    {
     "name": "stdout",
     "output_type": "stream",
     "text": [
      "Fermionic Operator\n",
      "number spin orbitals=4, number terms=10\n",
      "  -1 * ( +_0 -_2 )\n",
      "+ 1 * ( -_0 +_2 )\n",
      "+ -2.0 * ( +_0 -_0 )\n",
      "+ -2.0 * ( +_2 -_2 )\n",
      "+ -1 * ( +_1 -_3 )\n",
      "+ 1 * ( -_1 +_3 )\n",
      "+ -2.0 * ( +_1 -_1 )\n",
      "+ -2.0 * ( +_3 -_3 )\n",
      "+ 4 * ( +_0 -_0 +_1 -_1 )\n",
      "+ 4 * ( +_2 -_2 +_3 -_3 )\n"
     ]
    }
   ],
   "source": [
    "U = 4\n",
    "mapper = JordanWignerMapper()\n",
    "Ham = Line_Hubbard(-1,U/2,U,2,boundary_condition=BoundaryCondition.OPEN)\n",
    "#up spin site 1\n",
    "C2 = FermionicOp(\n",
    "    {\n",
    "        \"+_2\": 1,\n",
    "    },\n",
    "    num_spin_orbitals=4,\n",
    ")\n",
    "#up spin site 0\n",
    "C0 = FermionicOp(\n",
    "    {\n",
    "        \"+_0\": 1,\n",
    "    },\n",
    "    num_spin_orbitals=4,\n",
    ")\n",
    "C0_mat = mapper.map(C0).to_matrix()\n",
    "C2_mat = mapper.map(C2).to_matrix()\n",
    "C0101 = mapper.map(FermionicOp(\n",
    "    {\n",
    "        \"+_0 +_1\": 1,\n",
    "    },\n",
    "    num_spin_orbitals=4,\n",
    ")).to_matrix()\n",
    "C0110 = mapper.map(FermionicOp(\n",
    "    {\n",
    "        \"+_0 +_3\": 1,\n",
    "    },\n",
    "    num_spin_orbitals=4,\n",
    ")).to_matrix()\n",
    "C1001 = mapper.map(FermionicOp(\n",
    "    {\n",
    "        \"+_1 +_2\": 1,\n",
    "    },\n",
    "    num_spin_orbitals=4,\n",
    ")).to_matrix()\n",
    "C1010 = mapper.map(FermionicOp(\n",
    "    {\n",
    "        \"+_2 +_3\": 1,\n",
    "    },\n",
    "    num_spin_orbitals=4,\n",
    ")).to_matrix()\n",
    "print(Ham)"
   ]
  },
  {
   "cell_type": "code",
   "execution_count": 5,
   "metadata": {},
   "outputs": [
    {
     "name": "stdout",
     "output_type": "stream",
     "text": [
      "-4.82842712474619\n",
      "-4.8284271246253425\n"
     ]
    }
   ],
   "source": [
    "#%% Ground state circuit, obtained by inspection of analytical wavefunction\n",
    "bt = 0.7854074074074073\n",
    "GS_analytical = QuantumCircuit(4)\n",
    "GS_analytical.h(0)\n",
    "GS_analytical.x(1)\n",
    "GS_analytical.cx(0,1)\n",
    "GS_analytical.ry(bt,2)\n",
    "GS_analytical.x(3)\n",
    "GS_analytical.cx(2,3)\n",
    "GS_analytical.cx(1,3)\n",
    "GS_analytical.cx(1,2)\n",
    "GS_analytical.cz(1,2)\n",
    "GS_analytical.swap(1,2)\n",
    "GS_analytical.draw('mpl')\n",
    "\n",
    "#%% Sanity check: compare matrix ground energy with simulated estimator ground energy.\n",
    "Hmat = mapper.map(Ham).to_matrix()\n",
    "estimator = pEstimator()\n",
    "qubit_converter = (JordanWignerMapper())\n",
    "HHam = qubit_converter.map(Ham)\n",
    "E,S = np.linalg.eigh(Hmat)\n",
    "GS_mat = S[:,0]\n",
    "print(E[0])\n",
    "print(estimator.run([(GS_analytical,HHam)]).result()[0].data.evs)"
   ]
  },
  {
   "cell_type": "code",
   "execution_count": null,
   "metadata": {},
   "outputs": [],
   "source": []
  }
 ],
 "metadata": {
  "kernelspec": {
   "display_name": "qiskit1",
   "language": "python",
   "name": "python3"
  },
  "language_info": {
   "codemirror_mode": {
    "name": "ipython",
    "version": 3
   },
   "file_extension": ".py",
   "mimetype": "text/x-python",
   "name": "python",
   "nbconvert_exporter": "python",
   "pygments_lexer": "ipython3",
   "version": "3.11.9"
  },
  "orig_nbformat": 4
 },
 "nbformat": 4,
 "nbformat_minor": 2
}
