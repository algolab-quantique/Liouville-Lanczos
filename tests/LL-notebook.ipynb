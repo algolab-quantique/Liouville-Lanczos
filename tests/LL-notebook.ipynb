{
 "cells": [
  {
   "cell_type": "code",
   "execution_count": 1,
   "metadata": {},
   "outputs": [],
   "source": [
    "#%%\n",
    "from LiouvilleLanczos.Quantum_computer.QC_lanczos import Liouvillian_slo,inner_product_slo,sum_slo\n",
    "from LiouvilleLanczos.Quantum_computer.Hamiltonian import Line_Hubbard,BoundaryCondition\n",
    "from LiouvilleLanczos.Lanczos import Lanczos\n",
    "from LiouvilleLanczos.matrix_impl import MatrixState_inner_product,Matrix_Liouvillian,Matrix_sum\n",
    "from LiouvilleLanczos.Quantum_computer.Mapping import find_best_layout\n",
    "from LiouvilleLanczos.Green import CF_Green\n",
    "from qiskit.primitives import StatevectorEstimator as pEstimator\n",
    "\n",
    "from qiskit_nature.second_q.mappers import JordanWignerMapper\n",
    "from qiskit_nature.second_q.operators import FermionicOp\n",
    "from qiskit.quantum_info.operators import SparsePauliOp\n",
    "from qiskit import QuantumCircuit\n",
    "import numpy as np\n",
    "from qiskit import transpile\n",
    "from datetime import datetime\n",
    "from qiskit.transpiler.preset_passmanagers import generate_preset_pass_manager"
   ]
  },
  {
   "cell_type": "markdown",
   "metadata": {},
   "source": [
    "We start by initializing the Hubbard model Hamiltonian for a 2 site Line Lattice, in the second quantization:\n",
    "\n",
    "$H = \\sum_{i,j = 0}^1\\sum_{\\sigma = \\uparrow, \\downarrow} t \\hspace{1mm} c^{\\dag}_{i, \\sigma} c_{j, \\sigma} + U \\sum_{i = 0}^{1} n_{i, \\uparrow}n_{i,\\downarrow}$\n",
    "\n",
    "for U = 4, t = -1"
   ]
  },
  {
   "cell_type": "code",
   "execution_count": 2,
   "metadata": {},
   "outputs": [
    {
     "name": "stdout",
     "output_type": "stream",
     "text": [
      "Fermionic Operator\n",
      "number spin orbitals=4, number terms=10\n",
      "  -1 * ( +_0 -_2 )\n",
      "+ 1 * ( -_0 +_2 )\n",
      "+ -2.0 * ( +_0 -_0 )\n",
      "+ -2.0 * ( +_2 -_2 )\n",
      "+ -1 * ( +_1 -_3 )\n",
      "+ 1 * ( -_1 +_3 )\n",
      "+ -2.0 * ( +_1 -_1 )\n",
      "+ -2.0 * ( +_3 -_3 )\n",
      "+ 4 * ( +_0 -_0 +_1 -_1 )\n",
      "+ 4 * ( +_2 -_2 +_3 -_3 )\n"
     ]
    }
   ],
   "source": [
    "U = 4\n",
    "mapper = JordanWignerMapper()\n",
    "Ham = Line_Hubbard(-1,U/2,U,2,boundary_condition=BoundaryCondition.OPEN)\n",
    "#up spin site 1\n",
    "C2 = FermionicOp(\n",
    "    {\n",
    "        \"+_2\": 1,\n",
    "    },\n",
    "    num_spin_orbitals=4,\n",
    ")\n",
    "#up spin site 0\n",
    "C0 = FermionicOp(\n",
    "    {\n",
    "        \"+_0\": 1,\n",
    "    },\n",
    "    num_spin_orbitals=4,\n",
    ")\n",
    "C0_mat = mapper.map(C0).to_matrix()\n",
    "C2_mat = mapper.map(C2).to_matrix()\n",
    "print(Ham)"
   ]
  },
  {
   "cell_type": "markdown",
   "metadata": {},
   "source": [
    "The algorithm consists of calculating the Green's function by (iteratively) evaluating expectation values of fermionic operators on some state. Here, we are interested in the model at 0 temperature, and thus compute expectation values on the ground state.\n",
    "\n",
    "The circuit preparing the ground state was found by diagonalizing the hamiltonian analytically. For larger systems, a fully quantum algorithm could use a Hamiltonian simulation algorithm such as VQE to estimate the GS."
   ]
  },
  {
   "cell_type": "code",
   "execution_count": 3,
   "metadata": {},
   "outputs": [
    {
     "name": "stdout",
     "output_type": "stream",
     "text": [
      "-4.82842712474619\n",
      "-4.8284271246253425\n"
     ]
    },
    {
     "data": {
      "image/png": "[encoded data removed]",
      "text/plain": [
       "<Figure size 621.941x367.889 with 1 Axes>"
      ]
     },
     "execution_count": 3,
     "metadata": {},
     "output_type": "execute_result"
    }
   ],
   "source": [
    "#%% Ground state circuit, obtained by inspection of analytical wavefunction\n",
    "bt = 0.7854074074074073\n",
    "GS_analytical = QuantumCircuit(4)\n",
    "GS_analytical.h(0)\n",
    "GS_analytical.x(1)\n",
    "GS_analytical.cx(0,1)\n",
    "GS_analytical.ry(bt,2)\n",
    "GS_analytical.x(3)\n",
    "GS_analytical.cx(2,3)\n",
    "GS_analytical.cx(1,3)\n",
    "GS_analytical.cx(1,2)\n",
    "GS_analytical.cz(1,2)\n",
    "GS_analytical.swap(1,2)\n",
    "\n",
    "#%% Sanity check: compare matrix ground energy with simulated estimator ground energy.\n",
    "Hmat = mapper.map(Ham).to_matrix()\n",
    "estimator = pEstimator()\n",
    "qubit_converter = (JordanWignerMapper())\n",
    "HHam = qubit_converter.map(Ham)\n",
    "E,S = np.linalg.eigh(Hmat)\n",
    "GS_mat = S[:,0]\n",
    "print(E[0])\n",
    "print(estimator.run([(GS_analytical,HHam)]).result()[0].data.evs)\n",
    "GS_analytical.draw('mpl')"
   ]
  },
  {
   "cell_type": "markdown",
   "metadata": {},
   "source": [
    "From the analytic description of the GS, we can calculate the Green's function classically, for reference. "
   ]
  },
  {
   "cell_type": "code",
   "execution_count": 4,
   "metadata": {},
   "outputs": [
    {
     "name": "stdout",
     "output_type": "stream",
     "text": [
      "anomalous termination b at iteration 3\n",
      "b^2=(1.4667882456453188e-30+0j) is smaller than 1e-13, terminating\n"
     ]
    },
    {
     "ename": "UFuncTypeError",
     "evalue": "Cannot cast ufunc 'add' output from dtype('complex128') to dtype('float64') with casting rule 'same_kind'",
     "output_type": "error",
     "traceback": [
      "\u001b[0;31m---------------------------------------------------------------------------\u001b[0m",
      "\u001b[0;31mUFuncTypeError\u001b[0m                            Traceback (most recent call last)",
      "Cell \u001b[0;32mIn[4], line 11\u001b[0m\n\u001b[1;32m      9\u001b[0m SQ_Liou \u001b[39m=\u001b[39m Liouvillian_slo(eps)\n\u001b[1;32m     10\u001b[0m lanczos \u001b[39m=\u001b[39m Lanczos(SQ_inpro,SQ_Liou,sum_slo(eps))\n\u001b[0;32m---> 11\u001b[0m a_sim5,b_sim5,mu_sim5 \u001b[39m=\u001b[39m lanczos\u001b[39m.\u001b[39;49mpolynomial_hybrid(Ham,C0,[C2],\u001b[39m10\u001b[39;49m,\u001b[39m5e-3\u001b[39;49m)\n",
      "File \u001b[0;32m~/miniconda3/envs/qiskit1/lib/python3.11/site-packages/LiouvilleLanczos/Lanczos.py:42\u001b[0m, in \u001b[0;36mLanczos.polynomial_hybrid\u001b[0;34m(self, H, f_0, other_ops, max_k, min_b)\u001b[0m\n\u001b[1;32m     40\u001b[0m b \u001b[39m=\u001b[39m [np\u001b[39m.\u001b[39msqrt(\u001b[39mself\u001b[39m\u001b[39m.\u001b[39minner_prod(f_0,f_0,Name\u001b[39m=\u001b[39m\u001b[39m\"\u001b[39m\u001b[39mb0\u001b[39m\u001b[39m\"\u001b[39m))]\n\u001b[1;32m     41\u001b[0m f_i \u001b[39m=\u001b[39m f_0\u001b[39m/\u001b[39mb[\u001b[39m-\u001b[39m\u001b[39m1\u001b[39m]\n\u001b[0;32m---> 42\u001b[0m multimoments \u001b[39m=\u001b[39m [[\u001b[39mself\u001b[39;49m\u001b[39m.\u001b[39;49minner_prod(o,f_i,real_result\u001b[39m=\u001b[39;49m\u001b[39mFalse\u001b[39;49;00m,Name\u001b[39m=\u001b[39;49m\u001b[39mf\u001b[39;49m\u001b[39m\"\u001b[39;49m\u001b[39mm\u001b[39;49m\u001b[39m{\u001b[39;49;00mm\u001b[39m}\u001b[39;49;00m\u001b[39m_\u001b[39;49m\u001b[39m{\u001b[39;49;00m\u001b[39m0\u001b[39;49m\u001b[39m}\u001b[39;49;00m\u001b[39m\"\u001b[39;49m) \u001b[39mfor\u001b[39;49;00m m,o \u001b[39min\u001b[39;49;00m \u001b[39menumerate\u001b[39;49m(other_ops)] ]\n\u001b[1;32m     43\u001b[0m f_ip \u001b[39m=\u001b[39m \u001b[39mself\u001b[39m\u001b[39m.\u001b[39mLiouvillian(\u001b[39m-\u001b[39mH,f_i)\n\u001b[1;32m     44\u001b[0m a_i \u001b[39m=\u001b[39m \u001b[39mself\u001b[39m\u001b[39m.\u001b[39minner_prod(f_ip,f_i,real_result\u001b[39m=\u001b[39m\u001b[39mTrue\u001b[39;00m,Name\u001b[39m=\u001b[39m\u001b[39m\"\u001b[39m\u001b[39ma0\u001b[39m\u001b[39m\"\u001b[39m)\n",
      "File \u001b[0;32m~/miniconda3/envs/qiskit1/lib/python3.11/site-packages/LiouvilleLanczos/Lanczos.py:42\u001b[0m, in \u001b[0;36m<listcomp>\u001b[0;34m(.0)\u001b[0m\n\u001b[1;32m     40\u001b[0m b \u001b[39m=\u001b[39m [np\u001b[39m.\u001b[39msqrt(\u001b[39mself\u001b[39m\u001b[39m.\u001b[39minner_prod(f_0,f_0,Name\u001b[39m=\u001b[39m\u001b[39m\"\u001b[39m\u001b[39mb0\u001b[39m\u001b[39m\"\u001b[39m))]\n\u001b[1;32m     41\u001b[0m f_i \u001b[39m=\u001b[39m f_0\u001b[39m/\u001b[39mb[\u001b[39m-\u001b[39m\u001b[39m1\u001b[39m]\n\u001b[0;32m---> 42\u001b[0m multimoments \u001b[39m=\u001b[39m [[\u001b[39mself\u001b[39;49m\u001b[39m.\u001b[39;49minner_prod(o,f_i,real_result\u001b[39m=\u001b[39;49m\u001b[39mFalse\u001b[39;49;00m,Name\u001b[39m=\u001b[39;49m\u001b[39mf\u001b[39;49m\u001b[39m\"\u001b[39;49m\u001b[39mm\u001b[39;49m\u001b[39m{\u001b[39;49;00mm\u001b[39m}\u001b[39;49;00m\u001b[39m_\u001b[39;49m\u001b[39m{\u001b[39;49;00m\u001b[39m0\u001b[39;49m\u001b[39m}\u001b[39;49;00m\u001b[39m\"\u001b[39;49m) \u001b[39mfor\u001b[39;00m m,o \u001b[39min\u001b[39;00m \u001b[39menumerate\u001b[39m(other_ops)] ]\n\u001b[1;32m     43\u001b[0m f_ip \u001b[39m=\u001b[39m \u001b[39mself\u001b[39m\u001b[39m.\u001b[39mLiouvillian(\u001b[39m-\u001b[39mH,f_i)\n\u001b[1;32m     44\u001b[0m a_i \u001b[39m=\u001b[39m \u001b[39mself\u001b[39m\u001b[39m.\u001b[39minner_prod(f_ip,f_i,real_result\u001b[39m=\u001b[39m\u001b[39mTrue\u001b[39;00m,Name\u001b[39m=\u001b[39m\u001b[39m\"\u001b[39m\u001b[39ma0\u001b[39m\u001b[39m\"\u001b[39m)\n",
      "File \u001b[0;32m~/miniconda3/envs/qiskit1/lib/python3.11/site-packages/LiouvilleLanczos/Quantum_computer/QC_lanczos.py:144\u001b[0m, in \u001b[0;36minner_product_slo.__call__\u001b[0;34m(self, A, B, Name, real_result)\u001b[0m\n\u001b[1;32m    142\u001b[0m     isa_obs_imag \u001b[39m=\u001b[39m obs_imag\u001b[39m.\u001b[39mapply_layout(\u001b[39mself\u001b[39m\u001b[39m.\u001b[39mstate\u001b[39m.\u001b[39mlayout)\n\u001b[1;32m    143\u001b[0m     out_imag \u001b[39m=\u001b[39m np\u001b[39m.\u001b[39mreal(\u001b[39mself\u001b[39m\u001b[39m.\u001b[39mestimator\u001b[39m.\u001b[39mrun([(\u001b[39mself\u001b[39m\u001b[39m.\u001b[39mstate,isa_obs_imag)])\u001b[39m.\u001b[39mresult()[\u001b[39m0\u001b[39m]\u001b[39m.\u001b[39mdata\u001b[39m.\u001b[39mevs)\n\u001b[0;32m--> 144\u001b[0m     out \u001b[39m+\u001b[39;49m\u001b[39m=\u001b[39;49m  out_imag \u001b[39m*\u001b[39;49m \u001b[39m1\u001b[39;49mj\n\u001b[1;32m    146\u001b[0m \u001b[39mtry\u001b[39;00m: \u001b[39m#remove the name from the list of tags of the upcoming jobs\u001b[39;00m\n\u001b[1;32m    147\u001b[0m     \u001b[39mif\u001b[39;00m Name \u001b[39mis\u001b[39;00m \u001b[39mnot\u001b[39;00m \u001b[39mNone\u001b[39;00m:\n",
      "\u001b[0;31mUFuncTypeError\u001b[0m: Cannot cast ufunc 'add' output from dtype('complex128') to dtype('float64') with casting rule 'same_kind'"
     ]
    }
   ],
   "source": [
    "#%% classical computation of the Green's function at site 0\n",
    "matrix_lanczos = Lanczos(MatrixState_inner_product(GS_mat),Matrix_Liouvillian(),Matrix_sum())\n",
    "a_ed,b_ed,mu_ed = matrix_lanczos.polynomial_hybrid(Hmat,C0_mat,[C2_mat],10)\n",
    "green_ed = CF_Green(a_ed,b_ed)\n",
    "\n",
    "# %% Quantum computer simulation\n",
    "eps = 1e-6\n",
    "SQ_inpro = inner_product_slo(GS_analytical,estimator,qubit_converter,eps)\n",
    "SQ_Liou = Liouvillian_slo(eps)\n",
    "lanczos = Lanczos(SQ_inpro,SQ_Liou,sum_slo(eps))\n",
    "a_sim5,b_sim5,mu_sim5 = lanczos.polynomial_hybrid(Ham,C0,[C2],10,5e-3)"
   ]
  },
  {
   "cell_type": "code",
   "execution_count": null,
   "metadata": {},
   "outputs": [],
   "source": []
  }
 ],
 "metadata": {
  "kernelspec": {
   "display_name": "qiskit1",
   "language": "python",
   "name": "python3"
  },
  "language_info": {
   "codemirror_mode": {
    "name": "ipython",
    "version": 3
   },
   "file_extension": ".py",
   "mimetype": "text/x-python",
   "name": "python",
   "nbconvert_exporter": "python",
   "pygments_lexer": "ipython3",
   "version": "3.11.9"
  },
  "orig_nbformat": 4
 },
 "nbformat": 4,
 "nbformat_minor": 2
}
